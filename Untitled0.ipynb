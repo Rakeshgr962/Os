{
  "nbformat": 4,
  "nbformat_minor": 0,
  "metadata": {
    "colab": {
      "provenance": [],
      "authorship_tag": "ABX9TyN6A+FrLDVQ7risJHadFOOk",
      "include_colab_link": true
    },
    "kernelspec": {
      "name": "python3",
      "display_name": "Python 3"
    },
    "language_info": {
      "name": "python"
    }
  },
  "cells": [
    {
      "cell_type": "markdown",
      "metadata": {
        "id": "view-in-github",
        "colab_type": "text"
      },
      "source": [
        "<a href=\"https://colab.research.google.com/github/Rakeshgr962/Os/blob/main/Untitled0.ipynb\" target=\"_parent\"><img src=\"https://colab.research.google.com/assets/colab-badge.svg\" alt=\"Open In Colab\"/></a>"
      ]
    },
    {
      "cell_type": "code",
      "execution_count": null,
      "metadata": {
        "id": "54sdt8xetATI"
      },
      "outputs": [],
      "source": [
        "<!DOCTYPE html>\n",
        "<html lang=\"en\">\n",
        "    <head>\n",
        "        <meta charset=\"UTF-8\">\n",
        "        <meta name=\"viewport\" content=\"width=device-width, initial-scale=1.0\">\n",
        "        <title>Centered Div</title>\n",
        "        <style>\n",
        "        body {\n",
        "            display: flex;\n",
        "            justify-content: center;\n",
        "            align-items: center;\n",
        "            height: 100vh;\n",
        "            background-color: #f0f0f0;\n",
        "        }\n",
        "        .centered-div {\n",
        "            width: 300px;\n",
        "            height: fit-content;\n",
        "            background-color: #ffffff;\n",
        "            justify-content: safe;\n",
        "            color: #010101;\n",
        "\n",
        "            padding: 15px;\n",
        "        }\n",
        "    </style>\n",
        "    </head>\n",
        "    <body>\n",
        "        <link rel=\"shortcut icon\" href=\"/Bokehlicia-Pacifica-Amazon.256.png\"\n",
        "            type=\"image/x-icon\">\n",
        "        <div class=\"centered-div\">\n",
        "            <h2\n",
        "                style=\"margin-top: 10px;margin-bottom: 5px; font-family:'Times New Roman', Times, serif;\">Create\n",
        "                Account\n",
        "            </h2>\n",
        "            <label for=\"name\"><b>Your name</b></label>\n",
        "            <input id=\"Your name\" placeholder=\"First and last Name \"\n",
        "                style=\"padding: 2px;width: 250px;\" type=\"text\">\n",
        "            <p style=\"margin-bottom: 0%;\"><b><span\n",
        "                        style=\"margin-top: 29px;\">Mobile number or\n",
        "                        Email</span></p></b>\n",
        "            <input style=\"padding: 2px;width: 250px;\" type=\"tel or email\"\n",
        "                required>\n",
        "            <p style=\"margin-bottom: 0%;\"><b>Password</b></p>\n",
        "            <input style=\"padding: 2px;width: 250px;\" id=\"Password\"\n",
        "                type=\"password\" required>\n",
        "            <p style=\"margin-bottom: 0%;\"><b>Re-enter Password</b></p>\n",
        "            <input style=\"padding: 2px;width: 250px;\" type=\"password\"\n",
        "                placeholder=\"Atleast 6 Characters \"><br>\n",
        "            <form action=\"/\">\n",
        "                <button\n",
        "                    style=\"margin-top: 19px; width: 290px;height: 28px; background-color: rgb(237, 237, 16);\">Continue</button>\n",
        "            </form>\n",
        "            <p>By creating an account, you agree to Amazon's <a\n",
        "                    href=\"https://na.account.amazon.com/ap/lwa/agreement?agreementName=conditionsOfUse\"\n",
        "                    target=\"_blank\">Condition\n",
        "                    of Use</a> and <a\n",
        "                    href=\"https://na.account.amazon.com/ap/lwa/agreement?agreementName=privacyNotice\"\n",
        "                    target=\"_blank\">Privacy\n",
        "                    Notice</a>.</p>\n",
        "            <hr>\n",
        "            <p style=\"margin-bottom: 0%;\">Buying For work?</p><a\n",
        "                href=\"https://www.amazon.in/business/register/org/landing?ref_=b2bgoogle_BRTEM046Dtz\"\n",
        "                target=\"_blank\">Create a free Business account </a>\n",
        "            <hr>\n",
        "            <p>Already have an account?<a\n",
        "                    href=\"https://na.account.amazon.com/ap/signin?_encoding=UTF8&openid.mode=checkid_setup&openid.ns=http%3A%2F%2Fspecs.openid.net%2Fauth%2F2.0&openid.claimed_id=http%3A%2F%2Fspecs.openid.net%2Fauth%2F2.0%2Fidentifier_select&openid.pape.max_auth_age=0&ie=UTF8&openid.ns.pape=http%3A%2F%2Fspecs.openid.net%2Fextensions%2Fpape%2F1.0&openid.identity=http%3A%2F%2Fspecs.openid.net%2Fauth%2F2.0%2Fidentifier_select&pageId=lwa&openid.assoc_handle=amzn_lwa_na&marketPlaceId=ATVPDKIKX0DER&arb=d68d373e-9cf6-486a-b7b6-71b135172e23&language=en_US&openid.return_to=https%3A%2F%2Fna.account.amazon.com%2Fap%2Foa%3FmarketPlaceId%3DATVPDKIKX0DER&arb=d68d373e-9cf6-486a-b7b6-71b135172e23&language=en_US&enableGlobalAccountCreation=1&metricIdentifier=amzn1.application.7ff8a2be5dae490b9914b4f430ca5c4c&signedMetricIdentifier=pjdsmDnaXhj%2FNbw9hCvWIQvTgX0htu+jAbCBVOtDWHM%3D\"\n",
        "                    target=\"_blank\">Signin</a></p>\n",
        "        </div>\n",
        "    </body>\n",
        "</html>\n"
      ]
    }
  ]
}